{
 "cells": [
  {
   "cell_type": "code",
   "execution_count": 28,
   "id": "6271b81a",
   "metadata": {},
   "outputs": [],
   "source": [
    "import pandas as pd\n",
    "import matplotlib.pyplot as plt"
   ]
  },
  {
   "cell_type": "code",
   "execution_count": 2,
   "id": "157ff887",
   "metadata": {},
   "outputs": [],
   "source": [
    "data1=pd.read_csv('C:/Users/mohit/Downloads/randomwalk-ds-assessment-level3-Mohith-main/book_tags.csv')\n",
    "data2=pd.read_csv('C:/Users/mohit/Downloads/randomwalk-ds-assessment-level3-Mohith-main/books.csv')\n",
    "data3=pd.read_csv('C:/Users/mohit/Downloads/randomwalk-ds-assessment-level3-Mohith-main/ratings.csv')"
   ]
  },
  {
   "cell_type": "code",
   "execution_count": 4,
   "id": "28f59187",
   "metadata": {},
   "outputs": [
    {
     "data": {
      "text/plain": [
       "<bound method DataFrame.info of        goodreads_book_id  tag_id  count\n",
       "0                    386   30574    565\n",
       "1                    386   19733    280\n",
       "2                    386   21689    182\n",
       "3                    386   21773     99\n",
       "4                    386   19742     78\n",
       "...                  ...     ...    ...\n",
       "40195           31845516   13254      7\n",
       "40196           31845516   19734      7\n",
       "40197           31845516     833      7\n",
       "40198           31845516   23471      6\n",
       "40199           31845516    9477      6\n",
       "\n",
       "[40200 rows x 3 columns]>"
      ]
     },
     "execution_count": 4,
     "metadata": {},
     "output_type": "execute_result"
    }
   ],
   "source": [
    "data1.info"
   ]
  },
  {
   "cell_type": "code",
   "execution_count": 5,
   "id": "c8aa90b3",
   "metadata": {},
   "outputs": [
    {
     "name": "stdout",
     "output_type": "stream",
     "text": [
      "<class 'pandas.core.frame.DataFrame'>\n",
      "RangeIndex: 399 entries, 0 to 398\n",
      "Data columns (total 24 columns):\n",
      " #   Column                     Non-Null Count  Dtype  \n",
      "---  ------                     --------------  -----  \n",
      " 0   book_id                    399 non-null    int64  \n",
      " 1   goodreads_book_id          399 non-null    int64  \n",
      " 2   best_book_id               399 non-null    int64  \n",
      " 3   work_id                    399 non-null    int64  \n",
      " 4   books_count                399 non-null    int64  \n",
      " 5   isbn                       388 non-null    object \n",
      " 6   isbn13                     389 non-null    float64\n",
      " 7   authors                    399 non-null    object \n",
      " 8   original_publication_year  399 non-null    float64\n",
      " 9   original_title             363 non-null    object \n",
      " 10  title                      399 non-null    object \n",
      " 11  language_code              356 non-null    object \n",
      " 12  average_rating             399 non-null    float64\n",
      " 13  ratings_count              399 non-null    int64  \n",
      " 14  work_ratings_count         399 non-null    int64  \n",
      " 15  work_text_reviews_count    399 non-null    int64  \n",
      " 16  ratings_1                  399 non-null    int64  \n",
      " 17  ratings_2                  399 non-null    int64  \n",
      " 18  ratings_3                  399 non-null    int64  \n",
      " 19  ratings_4                  399 non-null    int64  \n",
      " 20  ratings_5                  399 non-null    int64  \n",
      " 21  image_url                  399 non-null    object \n",
      " 22  small_image_url            399 non-null    object \n",
      " 23  NonEnglish                 399 non-null    int64  \n",
      "dtypes: float64(3), int64(14), object(7)\n",
      "memory usage: 74.9+ KB\n"
     ]
    }
   ],
   "source": [
    "data2.info()"
   ]
  },
  {
   "cell_type": "code",
   "execution_count": 6,
   "id": "ea02f193",
   "metadata": {},
   "outputs": [
    {
     "name": "stdout",
     "output_type": "stream",
     "text": [
      "<class 'pandas.core.frame.DataFrame'>\n",
      "RangeIndex: 233383 entries, 0 to 233382\n",
      "Data columns (total 3 columns):\n",
      " #   Column   Non-Null Count   Dtype\n",
      "---  ------   --------------   -----\n",
      " 0   user_id  233383 non-null  int64\n",
      " 1   book_id  233383 non-null  int64\n",
      " 2   rating   233383 non-null  int64\n",
      "dtypes: int64(3)\n",
      "memory usage: 5.3 MB\n"
     ]
    }
   ],
   "source": [
    "data3.info()"
   ]
  },
  {
   "cell_type": "code",
   "execution_count": 13,
   "id": "62bb1be6",
   "metadata": {},
   "outputs": [],
   "source": [
    "## Question 1"
   ]
  },
  {
   "cell_type": "code",
   "execution_count": 7,
   "id": "731ec179",
   "metadata": {},
   "outputs": [
    {
     "name": "stdout",
     "output_type": "stream",
     "text": [
      "39837\n"
     ]
    }
   ],
   "source": [
    "tcount = data2['original_title'].value_counts()\n",
    "utitles = tcount[tcount == 1].count()\n",
    "total_books = len(data1)\n",
    "no_original_title= total_books - utitles\n",
    "print(no_original_title)"
   ]
  },
  {
   "cell_type": "code",
   "execution_count": null,
   "id": "3e5a6488",
   "metadata": {},
   "outputs": [],
   "source": [
    "## Question 3"
   ]
  },
  {
   "cell_type": "code",
   "execution_count": 8,
   "id": "4ed26dc6",
   "metadata": {},
   "outputs": [],
   "source": [
    "new_data3=data3.drop_duplicates()"
   ]
  },
  {
   "cell_type": "code",
   "execution_count": 11,
   "id": "e4873028",
   "metadata": {},
   "outputs": [
    {
     "name": "stdout",
     "output_type": "stream",
     "text": [
      "40836\n"
     ]
    }
   ],
   "source": [
    "count=new_data3['user_id'].nunique()\n",
    "print(count)"
   ]
  },
  {
   "cell_type": "code",
   "execution_count": 19,
   "id": "8fc0f615",
   "metadata": {},
   "outputs": [],
   "source": [
    "## Question 4"
   ]
  },
  {
   "cell_type": "code",
   "execution_count": 16,
   "id": "39ddda80",
   "metadata": {},
   "outputs": [
    {
     "name": "stdout",
     "output_type": "stream",
     "text": [
      "40836\n"
     ]
    }
   ],
   "source": [
    "new_data1=data1.drop_duplicates()\n",
    "count1=new_data1['tag_id'].drop_duplicates()\n",
    "print(count)"
   ]
  },
  {
   "cell_type": "code",
   "execution_count": 17,
   "id": "26f6cff7",
   "metadata": {},
   "outputs": [],
   "source": [
    "## Question 2"
   ]
  },
  {
   "cell_type": "code",
   "execution_count": 22,
   "id": "d07df95c",
   "metadata": {},
   "outputs": [
    {
     "name": "stdout",
     "output_type": "stream",
     "text": [
      "363\n"
     ]
    }
   ],
   "source": [
    "new_data2 = data2.dropna(subset=['original_title'])\n",
    "print(new_data2.shape[0])"
   ]
  },
  {
   "cell_type": "code",
   "execution_count": 25,
   "id": "97f92abd",
   "metadata": {},
   "outputs": [],
   "source": [
    "## Question 7"
   ]
  },
  {
   "cell_type": "code",
   "execution_count": 34,
   "id": "2916ed54",
   "metadata": {},
   "outputs": [
    {
     "data": {
      "image/png": "[encoded data removed]",
      "text/plain": [
       "<Figure size 1000x600 with 1 Axes>"
      ]
     },
     "metadata": {},
     "output_type": "display_data"
    }
   ],
   "source": [
    "tag_user_counts = data1.groupby('tag_id')['goodreads_book_id'].nunique()\n",
    "top_20_tags = tag_user_counts.nlargest(20)\n",
    "plt.figure(figsize=(10, 6))\n",
    "top_20_tags.sort_values(ascending=True).plot(kind='barh', color='red')\n",
    "plt.title('Top 20 Tags by User Records')\n",
    "plt.xlabel('Number of User Records')\n",
    "plt.ylabel('Tag ID')\n",
    "plt.tight_layout()\n",
    "plt.show()"
   ]
  },
  {
   "cell_type": "code",
   "execution_count": null,
   "id": "763892cb",
   "metadata": {},
   "outputs": [],
   "source": []
  }
 ],
 "metadata": {
  "kernelspec": {
   "display_name": "Python 3 (ipykernel)",
   "language": "python",
   "name": "python3"
  },
  "language_info": {
   "codemirror_mode": {
    "name": "ipython",
    "version": 3
   },
   "file_extension": ".py",
   "mimetype": "text/x-python",
   "name": "python",
   "nbconvert_exporter": "python",
   "pygments_lexer": "ipython3",
   "version": "3.11.5"
  }
 },
 "nbformat": 4,
 "nbformat_minor": 5
}
